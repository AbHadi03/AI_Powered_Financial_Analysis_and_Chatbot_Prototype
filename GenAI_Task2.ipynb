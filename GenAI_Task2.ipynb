{
  "nbformat": 4,
  "nbformat_minor": 0,
  "metadata": {
    "colab": {
      "provenance": []
    },
    "kernelspec": {
      "name": "python3",
      "display_name": "Python 3"
    },
    "language_info": {
      "name": "python"
    }
  },
  "cells": [
    {
      "cell_type": "code",
      "execution_count": 1,
      "metadata": {
        "colab": {
          "base_uri": "https://localhost:8080/"
        },
        "id": "tkgLYD6oCSd6",
        "outputId": "1097f1fc-8de6-4208-9f95-333bf2606f25"
      },
      "outputs": [
        {
          "output_type": "stream",
          "name": "stdout",
          "text": [
            "The total revenue for Microsoft is $578273 million.\n",
            "The net income for Microsoft has decreased by $11467 million over the last year.\n",
            "The total assets for Microsoft are $1110595 million.\n",
            "The total liabilities for Microsoft are $595842 million.\n",
            "The EPS (Earnings Per Share) for Microsoft is $8.05.\n"
          ]
        }
      ],
      "source": [
        "import pandas as pd\n",
        "\n",
        "# Load the financial data from the Excel file\n",
        "file_path = '/content/financial_data.xlsx'\n",
        "financial_data = pd.read_excel(file_path)\n",
        "\n",
        "def get_total_revenue(company):\n",
        "    data = financial_data[financial_data['Company'] == company]\n",
        "    total_revenue = data['Revenue ($M)'].sum()\n",
        "    return total_revenue\n",
        "\n",
        "def get_net_income_change(company):\n",
        "    data = financial_data[financial_data['Company'] == company]\n",
        "    net_income = data['Net Income ($M)'].values\n",
        "    if len(net_income) >= 2:\n",
        "        change = net_income[-1] - net_income[-2]\n",
        "        return change\n",
        "    return None\n",
        "\n",
        "def get_total_assets(company):\n",
        "    data = financial_data[financial_data['Company'] == company]\n",
        "    total_assets = data['Total Assets ($M)'].sum()\n",
        "    return total_assets\n",
        "\n",
        "def get_total_liabilities(company):\n",
        "    data = financial_data[financial_data['Company'] == company]\n",
        "    total_liabilities = data['Total Liabilities ($M)'].sum()\n",
        "    return total_liabilities\n",
        "\n",
        "def get_eps(company):\n",
        "    data = financial_data[financial_data['Company'] == company]\n",
        "    eps = data['EPS ($)'].values[-1] if len(data) > 0 else None\n",
        "    return eps\n",
        "\n",
        "def simple_chatbot(user_query, company):\n",
        "    if user_query == \"What is the total revenue?\":\n",
        "        total_revenue = get_total_revenue(company)\n",
        "        return f\"The total revenue for {company} is ${total_revenue} million.\"\n",
        "    elif user_query == \"How has net income changed over the last year?\":\n",
        "        net_income_change = get_net_income_change(company)\n",
        "        if net_income_change is not None:\n",
        "            change_direction = \"increased\" if net_income_change > 0 else \"decreased\"\n",
        "            return f\"The net income for {company} has {change_direction} by ${abs(net_income_change)} million over the last year.\"\n",
        "        else:\n",
        "            return \"Insufficient data to determine the net income change.\"\n",
        "    elif user_query == \"What are the total assets?\":\n",
        "        total_assets = get_total_assets(company)\n",
        "        return f\"The total assets for {company} are ${total_assets} million.\"\n",
        "    elif user_query == \"What are the total liabilities?\":\n",
        "        total_liabilities = get_total_liabilities(company)\n",
        "        return f\"The total liabilities for {company} are ${total_liabilities} million.\"\n",
        "    elif user_query == \"What is the EPS (Earnings Per Share)?\":\n",
        "        eps = get_eps(company)\n",
        "        if eps is not None:\n",
        "            return f\"The EPS (Earnings Per Share) for {company} is ${eps}.\"\n",
        "        else:\n",
        "            return \"Insufficient data to determine the EPS.\"\n",
        "    else:\n",
        "        return \"Sorry, I can only provide information on predefined queries.\"\n",
        "\n",
        "# Example usage\n",
        "company = \"Microsoft\"\n",
        "print(simple_chatbot(\"What is the total revenue?\", company))\n",
        "print(simple_chatbot(\"How has net income changed over the last year?\", company))\n",
        "print(simple_chatbot(\"What are the total assets?\", company))\n",
        "print(simple_chatbot(\"What are the total liabilities?\", company))\n",
        "print(simple_chatbot(\"What is the EPS (Earnings Per Share)?\", company))\n"
      ]
    }
  ]
}